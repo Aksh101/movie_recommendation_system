{
 "cells": [
  {
   "cell_type": "markdown",
   "metadata": {},
   "source": [
    "# Movie Recommendation by prediction of customer rating for a movie"
   ]
  },
  {
   "cell_type": "markdown",
   "metadata": {},
   "source": [
    "# Introduction: "
   ]
  },
  {
   "cell_type": "markdown",
   "metadata": {},
   "source": [
    "Goal : Finding customer rating for movies using truncated SVD.\n",
    "\n",
    "Here basic python libraries like numpy, pandas and scipy are only used to understand the algorithm better.\n",
    "\n",
    "Consider we have input information of customer rating given by different users for different movies.\n",
    "We can predict the customer rating of a user for a movie that he /she has not rated yet and thereby recommend them new movies.\n",
    "\n",
    "Since input information (utility matrix) is a sparse matrix, SVD can be used to decompose the user-movie interaction.\n",
    "Here features are selected based on the RMSE function.\n",
    "For the feature 12, it was found that the RMSE value is minimum and hence SVD with features 12 has been used.\n",
    "\n",
    "Inspired from Netflix competition, https://towardsdatascience.com/the-netflix-prize-how-even-ai-leaders-can-trip-up-5c1f38e95c9f\n",
    "\n",
    "Credits to \n",
    "1. https://towardsdatascience.com/beginners-guide-to-creating-an-svd-recommender-system-1fd7326d1f65 for the reference on the code.\n",
    "2. https://towardsdatascience.com/movie-recommendation-system-based-on-movielens-ef0df580cd0e for the reference on the dataset\n",
    "\n",
    "**Author:** Akshaya Ravi, **Date:** 11/10/2020\n"
   ]
  },
  {
   "cell_type": "code",
   "execution_count": 2,
   "metadata": {},
   "outputs": [],
   "source": [
    "import pandas as pd\n",
    "import numpy as np\n",
    "from scipy.linalg import sqrtm"
   ]
  },
  {
   "cell_type": "code",
   "execution_count": 3,
   "metadata": {},
   "outputs": [
    {
     "name": "stderr",
     "output_type": "stream",
     "text": [
      "C:\\Users\\20204321\\Anaconda3\\lib\\site-packages\\IPython\\core\\interactiveshell.py:3071: DtypeWarning: Columns (25,27,28,29) have mixed types.Specify dtype option on import or set low_memory=False.\n",
      "  has_raised = await self.run_ast_nodes(code_ast.body, cell_name,\n"
     ]
    }
   ],
   "source": [
    "df_movieinput = pd.read_csv(\"Movies.csv\",delimiter=';')"
   ]
  },
  {
   "cell_type": "code",
   "execution_count": 4,
   "metadata": {},
   "outputs": [],
   "source": [
    "df_userrating = pd.read_csv(\"Ratings_small.csv\",delimiter=';')"
   ]
  },
  {
   "cell_type": "code",
   "execution_count": 5,
   "metadata": {},
   "outputs": [
    {
     "data": {
      "text/html": [
       "<div>\n",
       "<style scoped>\n",
       "    .dataframe tbody tr th:only-of-type {\n",
       "        vertical-align: middle;\n",
       "    }\n",
       "\n",
       "    .dataframe tbody tr th {\n",
       "        vertical-align: top;\n",
       "    }\n",
       "\n",
       "    .dataframe thead th {\n",
       "        text-align: right;\n",
       "    }\n",
       "</style>\n",
       "<table border=\"1\" class=\"dataframe\">\n",
       "  <thead>\n",
       "    <tr style=\"text-align: right;\">\n",
       "      <th></th>\n",
       "      <th>userId</th>\n",
       "      <th>movieId</th>\n",
       "      <th>rating</th>\n",
       "      <th>timestamp</th>\n",
       "    </tr>\n",
       "  </thead>\n",
       "  <tbody>\n",
       "    <tr>\n",
       "      <th>0</th>\n",
       "      <td>1</td>\n",
       "      <td>31</td>\n",
       "      <td>2.5</td>\n",
       "      <td>1260759144</td>\n",
       "    </tr>\n",
       "    <tr>\n",
       "      <th>1</th>\n",
       "      <td>1</td>\n",
       "      <td>1029</td>\n",
       "      <td>3.0</td>\n",
       "      <td>1260759179</td>\n",
       "    </tr>\n",
       "    <tr>\n",
       "      <th>2</th>\n",
       "      <td>1</td>\n",
       "      <td>1061</td>\n",
       "      <td>3.0</td>\n",
       "      <td>1260759182</td>\n",
       "    </tr>\n",
       "    <tr>\n",
       "      <th>3</th>\n",
       "      <td>1</td>\n",
       "      <td>1129</td>\n",
       "      <td>2.0</td>\n",
       "      <td>1260759185</td>\n",
       "    </tr>\n",
       "    <tr>\n",
       "      <th>4</th>\n",
       "      <td>1</td>\n",
       "      <td>1172</td>\n",
       "      <td>4.0</td>\n",
       "      <td>1260759205</td>\n",
       "    </tr>\n",
       "  </tbody>\n",
       "</table>\n",
       "</div>"
      ],
      "text/plain": [
       "   userId  movieId  rating   timestamp\n",
       "0       1       31     2.5  1260759144\n",
       "1       1     1029     3.0  1260759179\n",
       "2       1     1061     3.0  1260759182\n",
       "3       1     1129     2.0  1260759185\n",
       "4       1     1172     4.0  1260759205"
      ]
     },
     "execution_count": 5,
     "metadata": {},
     "output_type": "execute_result"
    }
   ],
   "source": [
    "df_userrating.head()"
   ]
  },
  {
   "cell_type": "code",
   "execution_count": 6,
   "metadata": {},
   "outputs": [
    {
     "name": "stdout",
     "output_type": "stream",
     "text": [
      "<class 'pandas.core.frame.DataFrame'>\n",
      "RangeIndex: 100004 entries, 0 to 100003\n",
      "Data columns (total 4 columns):\n",
      " #   Column     Non-Null Count   Dtype  \n",
      "---  ------     --------------   -----  \n",
      " 0   userId     100004 non-null  int64  \n",
      " 1   movieId    100004 non-null  int64  \n",
      " 2   rating     100004 non-null  float64\n",
      " 3   timestamp  100004 non-null  int64  \n",
      "dtypes: float64(1), int64(3)\n",
      "memory usage: 3.1 MB\n"
     ]
    }
   ],
   "source": [
    "df_userrating.info()"
   ]
  },
  {
   "cell_type": "code",
   "execution_count": 7,
   "metadata": {},
   "outputs": [
    {
     "name": "stdout",
     "output_type": "stream",
     "text": [
      "Number of users 671\n",
      "Number of movies 9066\n",
      "  userId movieId  rating   timestamp\n",
      "0      1      31     2.5  1260759144\n",
      "1      1    1029     3.0  1260759179\n",
      "2      1    1061     3.0  1260759182\n",
      "3      1    1129     2.0  1260759185\n",
      "4      1    1172     4.0  1260759205\n"
     ]
    }
   ],
   "source": [
    "df= df_userrating #Renaming for easier use\n",
    "df['userId'] = df['userId'].astype('str')\n",
    "df['movieId'] = df['movieId'].astype('str')\n",
    "users = df['userId'].unique() #list of all users\n",
    "movies = df['movieId'].unique() #list of all moviesprint(\"Number of users\", len(users))\n",
    "print(\"Number of users\", len(users))\n",
    "print(\"Number of movies\", len(movies))\n",
    "print(df.head())"
   ]
  },
  {
   "cell_type": "code",
   "execution_count": 8,
   "metadata": {},
   "outputs": [],
   "source": [
    "test = pd.DataFrame(columns=df.columns)\n",
    "train = pd.DataFrame(columns=df.columns)\n",
    "test_ratio = 0.2 #fraction of data to be used as test set.\n",
    "for u in users:\n",
    "    temp = df[df['userId'] == u]\n",
    "    n = len(temp)\n",
    "    test_size = int(test_ratio*n)\n",
    "    temp = temp.sort_values('timestamp').reset_index()\n",
    "    temp.drop('index', axis=1, inplace=True)\n",
    "    dummy_test = temp.iloc[test_size:]\n",
    "    dummy_train = temp.iloc[:-(n-test_size)]\n",
    "    test = pd.concat([test, dummy_test])\n",
    "    train = pd.concat([train, dummy_train])"
   ]
  },
  {
   "cell_type": "code",
   "execution_count": 9,
   "metadata": {},
   "outputs": [
    {
     "name": "stdout",
     "output_type": "stream",
     "text": [
      "(80251, 4)\n",
      "(19753, 4)\n",
      "(100004, 4)\n"
     ]
    }
   ],
   "source": [
    "# test.head()\n",
    "print(test.shape)\n",
    "print(train.shape)\n",
    "print(df.shape) # Original shape is retained after test and train split"
   ]
  },
  {
   "cell_type": "code",
   "execution_count": 10,
   "metadata": {},
   "outputs": [
    {
     "data": {
      "text/html": [
       "<div>\n",
       "<style scoped>\n",
       "    .dataframe tbody tr th:only-of-type {\n",
       "        vertical-align: middle;\n",
       "    }\n",
       "\n",
       "    .dataframe tbody tr th {\n",
       "        vertical-align: top;\n",
       "    }\n",
       "\n",
       "    .dataframe thead th {\n",
       "        text-align: right;\n",
       "    }\n",
       "</style>\n",
       "<table border=\"1\" class=\"dataframe\">\n",
       "  <thead>\n",
       "    <tr style=\"text-align: right;\">\n",
       "      <th></th>\n",
       "      <th>userId</th>\n",
       "      <th>movieId</th>\n",
       "      <th>rating</th>\n",
       "      <th>timestamp</th>\n",
       "    </tr>\n",
       "  </thead>\n",
       "  <tbody>\n",
       "    <tr>\n",
       "      <th>0</th>\n",
       "      <td>1</td>\n",
       "      <td>2294</td>\n",
       "      <td>2.0</td>\n",
       "      <td>1260759108</td>\n",
       "    </tr>\n",
       "    <tr>\n",
       "      <th>1</th>\n",
       "      <td>1</td>\n",
       "      <td>2455</td>\n",
       "      <td>2.5</td>\n",
       "      <td>1260759113</td>\n",
       "    </tr>\n",
       "    <tr>\n",
       "      <th>2</th>\n",
       "      <td>1</td>\n",
       "      <td>3671</td>\n",
       "      <td>3.0</td>\n",
       "      <td>1260759117</td>\n",
       "    </tr>\n",
       "    <tr>\n",
       "      <th>3</th>\n",
       "      <td>1</td>\n",
       "      <td>1339</td>\n",
       "      <td>3.5</td>\n",
       "      <td>1260759125</td>\n",
       "    </tr>\n",
       "    <tr>\n",
       "      <th>0</th>\n",
       "      <td>2</td>\n",
       "      <td>296</td>\n",
       "      <td>4.0</td>\n",
       "      <td>835355395</td>\n",
       "    </tr>\n",
       "  </tbody>\n",
       "</table>\n",
       "</div>"
      ],
      "text/plain": [
       "  userId movieId  rating   timestamp\n",
       "0      1    2294     2.0  1260759108\n",
       "1      1    2455     2.5  1260759113\n",
       "2      1    3671     3.0  1260759117\n",
       "3      1    1339     3.5  1260759125\n",
       "0      2     296     4.0   835355395"
      ]
     },
     "execution_count": 10,
     "metadata": {},
     "output_type": "execute_result"
    }
   ],
   "source": [
    "train.head()"
   ]
  },
  {
   "cell_type": "code",
   "execution_count": 11,
   "metadata": {},
   "outputs": [
    {
     "data": {
      "text/html": [
       "<div>\n",
       "<style scoped>\n",
       "    .dataframe tbody tr th:only-of-type {\n",
       "        vertical-align: middle;\n",
       "    }\n",
       "\n",
       "    .dataframe tbody tr th {\n",
       "        vertical-align: top;\n",
       "    }\n",
       "\n",
       "    .dataframe thead th {\n",
       "        text-align: right;\n",
       "    }\n",
       "</style>\n",
       "<table border=\"1\" class=\"dataframe\">\n",
       "  <thead>\n",
       "    <tr style=\"text-align: right;\">\n",
       "      <th></th>\n",
       "      <th>userId</th>\n",
       "      <th>movieId</th>\n",
       "      <th>rating</th>\n",
       "      <th>timestamp</th>\n",
       "    </tr>\n",
       "  </thead>\n",
       "  <tbody>\n",
       "    <tr>\n",
       "      <th>4</th>\n",
       "      <td>1</td>\n",
       "      <td>1343</td>\n",
       "      <td>2.0</td>\n",
       "      <td>1260759131</td>\n",
       "    </tr>\n",
       "    <tr>\n",
       "      <th>5</th>\n",
       "      <td>1</td>\n",
       "      <td>1371</td>\n",
       "      <td>2.5</td>\n",
       "      <td>1260759135</td>\n",
       "    </tr>\n",
       "    <tr>\n",
       "      <th>6</th>\n",
       "      <td>1</td>\n",
       "      <td>2105</td>\n",
       "      <td>4.0</td>\n",
       "      <td>1260759139</td>\n",
       "    </tr>\n",
       "    <tr>\n",
       "      <th>7</th>\n",
       "      <td>1</td>\n",
       "      <td>31</td>\n",
       "      <td>2.5</td>\n",
       "      <td>1260759144</td>\n",
       "    </tr>\n",
       "    <tr>\n",
       "      <th>8</th>\n",
       "      <td>1</td>\n",
       "      <td>1293</td>\n",
       "      <td>2.0</td>\n",
       "      <td>1260759148</td>\n",
       "    </tr>\n",
       "  </tbody>\n",
       "</table>\n",
       "</div>"
      ],
      "text/plain": [
       "  userId movieId  rating   timestamp\n",
       "4      1    1343     2.0  1260759131\n",
       "5      1    1371     2.5  1260759135\n",
       "6      1    2105     4.0  1260759139\n",
       "7      1      31     2.5  1260759144\n",
       "8      1    1293     2.0  1260759148"
      ]
     },
     "execution_count": 11,
     "metadata": {},
     "output_type": "execute_result"
    }
   ],
   "source": [
    "test.head()"
   ]
  },
  {
   "cell_type": "code",
   "execution_count": 12,
   "metadata": {},
   "outputs": [],
   "source": [
    "def create_utility_matrix(data, formatizer = {'user':0, 'item': 1, 'value': 2}):   \n",
    "    \"\"\"\n",
    "        :param data:      Array-like, 2D, nx3\n",
    "        :param formatizer:pass the formatizer\n",
    "        :return:          utility matrix (n x m), n=users, m=items\n",
    "    \"\"\"\n",
    "        \n",
    "    itemField = formatizer['item']\n",
    "    userField = formatizer['user']\n",
    "    valueField = formatizer['value']    \n",
    "    \n",
    "    userList = data.iloc[:,userField].tolist()\n",
    "    itemList = data.iloc[:,itemField].tolist()\n",
    "    valueList = data.iloc[:,valueField].tolist()    \n",
    "    \n",
    "    users = list(set(data.iloc[:,userField]))\n",
    "    items = list(set(data.iloc[:,itemField]))    \n",
    "    users_index = {users[i]: i for i in range(len(users))}    \n",
    "    pd_dict = {item: [np.nan for i in range(len(users))] \n",
    "               for item in items}    \n",
    "    for i in range(0,len(data)):\n",
    "        item = itemList[i]\n",
    "        user = userList[i]\n",
    "        value = valueList[i]    \n",
    "        pd_dict[item][users_index[user]] = value   \n",
    "    X = pd.DataFrame(pd_dict)\n",
    "    X.index = users\n",
    "        \n",
    "    itemcols = list(X.columns)\n",
    "    items_index = {itemcols[i]: i for i in range(len(itemcols))}\n",
    "    # users_index gives us a mapping of user_id to index of user\n",
    "    # items_index provides the same for items    \n",
    "    return X, users_index, items_index"
   ]
  },
  {
   "cell_type": "code",
   "execution_count": 13,
   "metadata": {},
   "outputs": [],
   "source": [
    "X,user_index,items_index= create_utility_matrix(train)"
   ]
  },
  {
   "cell_type": "code",
   "execution_count": 14,
   "metadata": {},
   "outputs": [
    {
     "name": "stdout",
     "output_type": "stream",
     "text": [
      "671\n",
      "3886\n",
      "671\n",
      "8733\n"
     ]
    }
   ],
   "source": [
    "X.shape\n",
    "print(train.userId.nunique())\n",
    "print(train.movieId.nunique())\n",
    "print(test.userId.nunique())\n",
    "print(test.movieId.nunique())"
   ]
  },
  {
   "cell_type": "code",
   "execution_count": 15,
   "metadata": {},
   "outputs": [],
   "source": [
    "def svd(train, k):\n",
    "    utilMat = np.array(train)    # the nan or unavailable entries are masked\n",
    "    mask = np.isnan(utilMat)\n",
    "    masked_arr = np.ma.masked_array(utilMat, mask)\n",
    "    item_means = np.mean(masked_arr, axis=0)    # nan entries will replaced by the average rating for each item\n",
    "    utilMat = masked_arr.filled(item_means)  \n",
    "    x = np.tile(item_means, (utilMat.shape[0],1))    \n",
    "    # we remove the per item average from all entries.\n",
    "    # the above mentioned nan entries will be essentially zero now\n",
    "    utilMat = utilMat - x    \n",
    "# The magic happens here. U and V are user and item features\n",
    "    U, s, V=np.linalg.svd(utilMat, full_matrices=False)\n",
    "    \n",
    "    s=np.diag(s)    # we take only the k most significant features\n",
    "    s=s[0:k,0:k]\n",
    "    U=U[:,0:k]\n",
    "    V=V[0:k,:]    \n",
    "    s_root=sqrtm(s)    \n",
    "    Usk=np.dot(U,s_root)\n",
    "    skV=np.dot(s_root,V)\n",
    "    UsV = np.dot(Usk, skV)    \n",
    "    UsV = UsV + x    \n",
    "    print(\"svd done\")\n",
    "    print(\"The shape of the matrix from SVD is\",UsV.shape)\n",
    "    return UsV"
   ]
  },
  {
   "cell_type": "code",
   "execution_count": 16,
   "metadata": {
    "scrolled": true
   },
   "outputs": [
    {
     "name": "stdout",
     "output_type": "stream",
     "text": [
      "svd done\n",
      "The shape of the matrix from SVD is (671, 3886)\n",
      "RMSE value of feature value 8 is 1.1363192568543867\n",
      "svd done\n",
      "The shape of the matrix from SVD is (671, 3886)\n",
      "RMSE value of feature value 10 is 1.136489403342238\n",
      "svd done\n",
      "The shape of the matrix from SVD is (671, 3886)\n",
      "RMSE value of feature value 12 is 1.1364317334528875\n",
      "svd done\n",
      "The shape of the matrix from SVD is (671, 3886)\n",
      "RMSE value of feature value 13 is 1.1365229608454714\n",
      "svd done\n",
      "The shape of the matrix from SVD is (671, 3886)\n",
      "RMSE value of feature value 14 is 1.1370702442273102\n",
      "svd done\n",
      "The shape of the matrix from SVD is (671, 3886)\n",
      "RMSE value of feature value 17 is 1.1379467661294826\n"
     ]
    }
   ],
   "source": [
    "#Calculating rmse value\n",
    "def rmse(true, pred):\n",
    "    # this will be used towards the end\n",
    "    x = true - pred\n",
    "    return sum([xi*xi for xi in x])/len(x)\n",
    "\n",
    "# to test the performance over a different number of features\n",
    "# Selecting the singular values with respect to highest importance \n",
    "# found by the SVD decomposition\n",
    "no_of_features = [8,10,12,13,14,17] #hyperparameter\n",
    "utilMat, users_index, items_index = create_utility_matrix(train)\n",
    "rmse_features = []\n",
    "#Iterating for each feature\n",
    "for f in no_of_features: \n",
    "    svdout = svd(utilMat, k=f)\n",
    "    pred = [] \n",
    "    #to store the predicted ratings for each user in test data   \n",
    "    for _,row in test.iterrows():\n",
    "        user = row['userId']\n",
    "        item = row['movieId']        \n",
    "        u_index = users_index[user] \n",
    "        # test data contains the user already foreseen from training data, cold start probelme is not addressed\n",
    "        if item in items_index:\n",
    "            i_index = items_index[item]\n",
    "            pred_rating = svdout[u_index, i_index]  #calls the utility matrix found from SVD\n",
    "        else:\n",
    "            pred_rating = np.mean(svdout[u_index, :]) # When certain item or movie is not found from training,\n",
    "                                                     # mean rating over that user is taken \n",
    "        pred.append(pred_rating)\n",
    "    a=rmse(test['rating'], pred)\n",
    "    print(\"RMSE value of feature value {} is {}\".format(f,a))\n",
    "    rmse_features.append(a)"
   ]
  },
  {
   "cell_type": "code",
   "execution_count": 25,
   "metadata": {},
   "outputs": [
    {
     "data": {
      "text/plain": [
       "Text(0.5, 1.0, 'Prediction error of customer rating across different features')"
      ]
     },
     "execution_count": 25,
     "metadata": {},
     "output_type": "execute_result"
    },
    {
     "data": {
      "image/png": "[encoded data removed]",
      "text/plain": [
       "<Figure size 576x360 with 1 Axes>"
      ]
     },
     "metadata": {
      "needs_background": "light"
     },
     "output_type": "display_data"
    }
   ],
   "source": [
    "import matplotlib.pyplot as plt\n",
    "plt.plot(no_of_features,rmse_features)\n",
    "plt.rcParams[\"figure.figsize\"] = (6,5)\n",
    "plt.xlabel('Number of features')\n",
    "plt.ylabel('RMSE of customer rating')\n",
    "plt.title('Prediction error of customer rating across different features')"
   ]
  },
  {
   "cell_type": "code",
   "execution_count": 18,
   "metadata": {},
   "outputs": [
    {
     "name": "stdout",
     "output_type": "stream",
     "text": [
      "svd done\n",
      "The shape of the matrix from SVD is (671, 3886)\n"
     ]
    }
   ],
   "source": [
    "#selecting feature value as 12 based on RMSE\n",
    "svdout = svd(utilMat, k=12)\n",
    "pred = [] \n",
    "    #to store the predicted ratings for each user in test data   \n",
    "for _,row in test.iterrows():\n",
    "    user = row['userId']\n",
    "    item = row['movieId']        \n",
    "    u_index = users_index[user] \n",
    "        # test data contains the user already foreseen from training data, cold start probelme is not addressed\n",
    "    if item in items_index:\n",
    "        i_index = items_index[item]\n",
    "        pred_rating = svdout[u_index, i_index]  #calls the utility matrix found from SVD\n",
    "    else:\n",
    "        pred_rating = np.mean(svdout[u_index, :]) # When certain item or movie is not found from training,\n",
    "                                                     # mean rating over that user is taken \n",
    "    pred.append(pred_rating) #prediction for test data is stored in pred"
   ]
  },
  {
   "cell_type": "code",
   "execution_count": 19,
   "metadata": {},
   "outputs": [
    {
     "name": "stdout",
     "output_type": "stream",
     "text": [
      "predicted is 4.3644602712160605\n",
      "original is 4.0\n"
     ]
    }
   ],
   "source": [
    "#Checking if it works for random movie id\n",
    "train.head()\n",
    "test.shape\n",
    "new_index=pd.Series(np.arange(0,80251,1))\n",
    "test.set_index(new_index)\n",
    "predicted_rating = pred[25]\n",
    "original_rating = test.iloc[25,2]\n",
    "print(\"predicted is\", predicted_rating)\n",
    "print(\"original is\", original_rating)"
   ]
  },
  {
   "cell_type": "code",
   "execution_count": null,
   "metadata": {},
   "outputs": [],
   "source": []
  }
 ],
 "metadata": {
  "kernelspec": {
   "display_name": "Python 3",
   "language": "python",
   "name": "python3"
  },
  "language_info": {
   "codemirror_mode": {
    "name": "ipython",
    "version": 3
   },
   "file_extension": ".py",
   "mimetype": "text/x-python",
   "name": "python",
   "nbconvert_exporter": "python",
   "pygments_lexer": "ipython3",
   "version": "3.8.3"
  }
 },
 "nbformat": 4,
 "nbformat_minor": 4
}
