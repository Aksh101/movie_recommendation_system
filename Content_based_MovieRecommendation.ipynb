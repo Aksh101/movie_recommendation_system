{
 "cells": [
  {
   "cell_type": "markdown",
   "metadata": {},
   "source": [
    "# Movie content based recommendation using similarity measures"
   ]
  },
  {
   "cell_type": "markdown",
   "metadata": {},
   "source": [
    "Goal: Recommend movies based on the closeness (distance) between two movies\n",
    "\n",
    "In case of cold start problem for recommendation systems, \n",
    "there is possibility that the new user has not rated the movie yet.\n",
    "\n",
    "One remedy is,\n",
    "This new user would have filled user data (they might have filled if they like comedy, or certain movie or so)\n",
    "\n",
    "If we can find how close the two movies are and relate it to the user data, new top 10 movie can be recommended for that user\n",
    "\n",
    "Credits to https://www.geeksforgeeks.org/movie-recommender-based-on-plot-summary-using-tf-idf-vectorization-and-cosine-similarity/ for the code reference. Here the code is adapted to our scenario, checked with respect to movie description and genres \n",
    "\n",
    "**Author** : Akshaya , **Date** : 11/10/2020"
   ]
  },
  {
   "cell_type": "code",
   "execution_count": 1,
   "metadata": {},
   "outputs": [
    {
     "name": "stderr",
     "output_type": "stream",
     "text": [
      "[nltk_data] Downloading package stopwords to\n",
      "[nltk_data]     C:\\Users\\20204321\\AppData\\Roaming\\nltk_data...\n",
      "[nltk_data]   Package stopwords is already up-to-date!\n",
      "[nltk_data] Downloading package punkt to\n",
      "[nltk_data]     C:\\Users\\20204321\\AppData\\Roaming\\nltk_data...\n",
      "[nltk_data]   Package punkt is already up-to-date!\n",
      "[nltk_data] Downloading package averaged_perceptron_tagger to\n",
      "[nltk_data]     C:\\Users\\20204321\\AppData\\Roaming\\nltk_data...\n",
      "[nltk_data]   Package averaged_perceptron_tagger is already up-to-\n",
      "[nltk_data]       date!\n",
      "[nltk_data] Downloading package wordnet to\n",
      "[nltk_data]     C:\\Users\\20204321\\AppData\\Roaming\\nltk_data...\n",
      "[nltk_data]   Package wordnet is already up-to-date!\n"
     ]
    },
    {
     "data": {
      "text/plain": [
       "True"
      ]
     },
     "execution_count": 1,
     "metadata": {},
     "output_type": "execute_result"
    }
   ],
   "source": [
    "import pandas as pd\n",
    "import numpy as np\n",
    "import nltk \n",
    "from nltk.stem import WordNetLemmatizer  \n",
    "from nltk.corpus import stopwords\n",
    "from sklearn.feature_extraction.text import TfidfVectorizer \n",
    "nltk.download('stopwords') \n",
    "nltk.download('punkt') \n",
    "nltk.download('averaged_perceptron_tagger') \n",
    "nltk.download('wordnet') "
   ]
  },
  {
   "cell_type": "code",
   "execution_count": 2,
   "metadata": {},
   "outputs": [],
   "source": [
    "lemmatizer = WordNetLemmatizer() \n",
    "stop_words = set(stopwords.words('english')) \n",
    "VERB_CODES = {'VB', 'VBD', 'VBG', 'VBN', 'VBP', 'VBZ'} \n",
    "tfidfvec = TfidfVectorizer() "
   ]
  },
  {
   "cell_type": "code",
   "execution_count": 3,
   "metadata": {},
   "outputs": [
    {
     "name": "stderr",
     "output_type": "stream",
     "text": [
      "C:\\Users\\20204321\\Anaconda3\\lib\\site-packages\\IPython\\core\\interactiveshell.py:3071: DtypeWarning: Columns (25,27,28,29) have mixed types.Specify dtype option on import or set low_memory=False.\n",
      "  has_raised = await self.run_ast_nodes(code_ast.body, cell_name,\n"
     ]
    }
   ],
   "source": [
    "df_movie = pd.read_csv(\"Movies.csv\", delimiter =\";\")"
   ]
  },
  {
   "cell_type": "markdown",
   "metadata": {},
   "source": [
    "# Based on movie description"
   ]
  },
  {
   "cell_type": "code",
   "execution_count": 4,
   "metadata": {
    "scrolled": true
   },
   "outputs": [
    {
     "name": "stderr",
     "output_type": "stream",
     "text": [
      "C:\\Users\\20204321\\Anaconda3\\lib\\site-packages\\pandas\\core\\generic.py:5303: SettingWithCopyWarning: \n",
      "A value is trying to be set on a copy of a slice from a DataFrame.\n",
      "Try using .loc[row_indexer,col_indexer] = value instead\n",
      "\n",
      "See the caveats in the documentation: https://pandas.pydata.org/pandas-docs/stable/user_guide/indexing.html#returning-a-view-versus-a-copy\n",
      "  self[name] = value\n"
     ]
    }
   ],
   "source": [
    "df=df_movie[[\"title\",\"description\"]]\n",
    "df.description= df.description.astype(str)"
   ]
  },
  {
   "cell_type": "markdown",
   "metadata": {},
   "source": [
    "Preprocessing on the Movie description (Removing stop words,punctuation etc.,)"
   ]
  },
  {
   "cell_type": "code",
   "execution_count": 5,
   "metadata": {},
   "outputs": [
    {
     "name": "stderr",
     "output_type": "stream",
     "text": [
      "<ipython-input-5-cb84b53c8d8d>:24: SettingWithCopyWarning: \n",
      "A value is trying to be set on a copy of a slice from a DataFrame.\n",
      "Try using .loc[row_indexer,col_indexer] = value instead\n",
      "\n",
      "See the caveats in the documentation: https://pandas.pydata.org/pandas-docs/stable/user_guide/indexing.html#returning-a-view-versus-a-copy\n",
      "  df[\"desc_processed\"]= df[\"description\"].apply(preprocess_sentences)\n"
     ]
    },
    {
     "data": {
      "text/html": [
       "<div>\n",
       "<style scoped>\n",
       "    .dataframe tbody tr th:only-of-type {\n",
       "        vertical-align: middle;\n",
       "    }\n",
       "\n",
       "    .dataframe tbody tr th {\n",
       "        vertical-align: top;\n",
       "    }\n",
       "\n",
       "    .dataframe thead th {\n",
       "        text-align: right;\n",
       "    }\n",
       "</style>\n",
       "<table border=\"1\" class=\"dataframe\">\n",
       "  <thead>\n",
       "    <tr style=\"text-align: right;\">\n",
       "      <th></th>\n",
       "      <th>title</th>\n",
       "      <th>description</th>\n",
       "      <th>desc_processed</th>\n",
       "    </tr>\n",
       "  </thead>\n",
       "  <tbody>\n",
       "    <tr>\n",
       "      <th>0</th>\n",
       "      <td>Toy Story</td>\n",
       "      <td>Led by Woody, Andy's toys live happily in his ...</td>\n",
       "      <td>lead woody andy toy live happily room andy bir...</td>\n",
       "    </tr>\n",
       "    <tr>\n",
       "      <th>1</th>\n",
       "      <td>Jumanji</td>\n",
       "      <td>When siblings Judy and Peter discover an encha...</td>\n",
       "      <td>sibling judy peter discover enchant board game...</td>\n",
       "    </tr>\n",
       "    <tr>\n",
       "      <th>2</th>\n",
       "      <td>Grumpier Old Men</td>\n",
       "      <td>A family wedding reignites the ancient feud be...</td>\n",
       "      <td>family wedding reignite ancient feud neighbor ...</td>\n",
       "    </tr>\n",
       "    <tr>\n",
       "      <th>3</th>\n",
       "      <td>Waiting to Exhale</td>\n",
       "      <td>Cheated on, mistreated and stepped on, the wom...</td>\n",
       "      <td>cheat mistreat step woman hold breath wait elu...</td>\n",
       "    </tr>\n",
       "    <tr>\n",
       "      <th>4</th>\n",
       "      <td>Father of the Bride Part II</td>\n",
       "      <td>Just when George Banks has recovered from his ...</td>\n",
       "      <td>george bank recover daughter wedding receive n...</td>\n",
       "    </tr>\n",
       "  </tbody>\n",
       "</table>\n",
       "</div>"
      ],
      "text/plain": [
       "                         title  \\\n",
       "0                    Toy Story   \n",
       "1                      Jumanji   \n",
       "2             Grumpier Old Men   \n",
       "3            Waiting to Exhale   \n",
       "4  Father of the Bride Part II   \n",
       "\n",
       "                                         description  \\\n",
       "0  Led by Woody, Andy's toys live happily in his ...   \n",
       "1  When siblings Judy and Peter discover an encha...   \n",
       "2  A family wedding reignites the ancient feud be...   \n",
       "3  Cheated on, mistreated and stepped on, the wom...   \n",
       "4  Just when George Banks has recovered from his ...   \n",
       "\n",
       "                                      desc_processed  \n",
       "0  lead woody andy toy live happily room andy bir...  \n",
       "1  sibling judy peter discover enchant board game...  \n",
       "2  family wedding reignite ancient feud neighbor ...  \n",
       "3  cheat mistreat step woman hold breath wait elu...  \n",
       "4  george bank recover daughter wedding receive n...  "
      ]
     },
     "execution_count": 5,
     "metadata": {},
     "output_type": "execute_result"
    }
   ],
   "source": [
    "def preprocess_sentences(text): \n",
    "    text = text.lower() \n",
    "    temp_sent =[] \n",
    "    words = nltk.word_tokenize(text) \n",
    "    tags = nltk.pos_tag(words) \n",
    "    for i, word in enumerate(words): \n",
    "        if tags[i][1] in VERB_CODES:  \n",
    "            lemmatized = lemmatizer.lemmatize(word, 'v') \n",
    "        else: \n",
    "            lemmatized = lemmatizer.lemmatize(word) \n",
    "        if lemmatized not in stop_words and lemmatized.isalpha(): \n",
    "              temp_sent.append(lemmatized) \n",
    "          \n",
    "    finalsent = ' '.join(temp_sent) \n",
    "    finalsent = finalsent.replace(\"n't\", \" not\") \n",
    "    finalsent = finalsent.replace(\"'m\", \" am\") \n",
    "    finalsent = finalsent.replace(\"'s\", \" is\") \n",
    "    finalsent = finalsent.replace(\"'re\", \" are\") \n",
    "    finalsent = finalsent.replace(\"'ll\", \" will\") \n",
    "    finalsent = finalsent.replace(\"'ve\", \" have\") \n",
    "    finalsent = finalsent.replace(\"'d\", \" would\") \n",
    "    return finalsent \n",
    "  \n",
    "df[\"desc_processed\"]= df[\"description\"].apply(preprocess_sentences) \n",
    "df.head() \n"
   ]
  },
  {
   "cell_type": "markdown",
   "metadata": {},
   "source": [
    "Performing TF-IDF (Product of the frequency of occurences of a word in each movie and word occuring in all movies)"
   ]
  },
  {
   "cell_type": "code",
   "execution_count": 6,
   "metadata": {},
   "outputs": [],
   "source": [
    "# Vectorizing pre-processed movie plots using TF-IDF \n",
    "df_copy = df[0:5000] #due to memory restriction in using cosine similarity only took 5000 movies\n",
    "# df_copy.head()\n",
    "\n",
    "tfidf_movieid = tfidfvec.fit_transform((df[\"desc_processed\"]))\n",
    "tfidf_movieid = tfidf_movieid[0:5000]"
   ]
  },
  {
   "cell_type": "code",
   "execution_count": 7,
   "metadata": {},
   "outputs": [],
   "source": [
    "# Finding cosine similarity between vectors  \n",
    "from sklearn.metrics.pairwise import cosine_similarity \n",
    "cos_sim = cosine_similarity(tfidf_movieid, tfidf_movieid) "
   ]
  },
  {
   "cell_type": "code",
   "execution_count": 8,
   "metadata": {},
   "outputs": [],
   "source": [
    "# Storing indices of the data \n",
    "indices = pd.Series(df_copy.title) \n",
    "def recommendations(title, cosine_sim = cos_sim): \n",
    "    recommended_movies = [] \n",
    "    index = indices[indices == title].index[0] \n",
    "    similarity_scores = pd.Series(cosine_sim[index]).sort_values(ascending = False) \n",
    "    top_10_movies = list(similarity_scores.iloc[1:11].index) \n",
    "    for i in top_10_movies: \n",
    "        recommended_movies.append(list(df_copy.title)[i]) \n",
    "    return recommended_movies "
   ]
  },
  {
   "cell_type": "code",
   "execution_count": 9,
   "metadata": {},
   "outputs": [
    {
     "data": {
      "text/plain": [
       "['Live and Let Die',\n",
       " 'Licence to Kill',\n",
       " 'Dr. No',\n",
       " 'The Way of the Dragon',\n",
       " 'Thunderball',\n",
       " 'Phantasm',\n",
       " 'Diamonds Are Forever',\n",
       " 'From Russia with Love',\n",
       " 'Into the Arms of Strangers: Stories of the Kindertransport',\n",
       " 'A View to a Kill']"
      ]
     },
     "execution_count": 9,
     "metadata": {},
     "output_type": "execute_result"
    }
   ],
   "source": [
    "recommendations(\"GoldenEye\")"
   ]
  },
  {
   "cell_type": "code",
   "execution_count": 10,
   "metadata": {},
   "outputs": [
    {
     "data": {
      "text/plain": [
       "['The Adventures of Milo and Otis',\n",
       " 'The Golden Child',\n",
       " 'Diamonds',\n",
       " 'Kandahar',\n",
       " 'Princess Mononoke',\n",
       " 'The Saltmen of Tibet',\n",
       " 'Ace Ventura: Pet Detective',\n",
       " 'Pearl Harbor',\n",
       " 'Top Gun',\n",
       " 'Jungle 2 Jungle']"
      ]
     },
     "execution_count": 10,
     "metadata": {},
     "output_type": "execute_result"
    }
   ],
   "source": [
    "recommendations(\"Ace Ventura: When Nature Calls\")"
   ]
  },
  {
   "cell_type": "code",
   "execution_count": 11,
   "metadata": {},
   "outputs": [
    {
     "data": {
      "text/plain": [
       "['Toy Story 2',\n",
       " 'Man on the Moon',\n",
       " 'Rebel Without a Cause',\n",
       " 'Condorman',\n",
       " 'Bound for Glory',\n",
       " \"Losin' It\",\n",
       " 'Malice',\n",
       " 'The Sunchaser',\n",
       " 'Indecent Proposal',\n",
       " \"Child's Play 3\"]"
      ]
     },
     "execution_count": 11,
     "metadata": {},
     "output_type": "execute_result"
    }
   ],
   "source": [
    "recommendations(\"Toy Story\")"
   ]
  },
  {
   "cell_type": "code",
   "execution_count": 12,
   "metadata": {},
   "outputs": [
    {
     "data": {
      "text/html": [
       "<div>\n",
       "<style scoped>\n",
       "    .dataframe tbody tr th:only-of-type {\n",
       "        vertical-align: middle;\n",
       "    }\n",
       "\n",
       "    .dataframe tbody tr th {\n",
       "        vertical-align: top;\n",
       "    }\n",
       "\n",
       "    .dataframe thead th {\n",
       "        text-align: right;\n",
       "    }\n",
       "</style>\n",
       "<table border=\"1\" class=\"dataframe\">\n",
       "  <thead>\n",
       "    <tr style=\"text-align: right;\">\n",
       "      <th></th>\n",
       "      <th>title</th>\n",
       "      <th>description</th>\n",
       "      <th>desc_processed</th>\n",
       "    </tr>\n",
       "  </thead>\n",
       "  <tbody>\n",
       "    <tr>\n",
       "      <th>0</th>\n",
       "      <td>Toy Story</td>\n",
       "      <td>Led by Woody, Andy's toys live happily in his ...</td>\n",
       "      <td>lead woody andy toy live happily room andy bir...</td>\n",
       "    </tr>\n",
       "    <tr>\n",
       "      <th>1</th>\n",
       "      <td>Jumanji</td>\n",
       "      <td>When siblings Judy and Peter discover an encha...</td>\n",
       "      <td>sibling judy peter discover enchant board game...</td>\n",
       "    </tr>\n",
       "    <tr>\n",
       "      <th>2</th>\n",
       "      <td>Grumpier Old Men</td>\n",
       "      <td>A family wedding reignites the ancient feud be...</td>\n",
       "      <td>family wedding reignite ancient feud neighbor ...</td>\n",
       "    </tr>\n",
       "    <tr>\n",
       "      <th>3</th>\n",
       "      <td>Waiting to Exhale</td>\n",
       "      <td>Cheated on, mistreated and stepped on, the wom...</td>\n",
       "      <td>cheat mistreat step woman hold breath wait elu...</td>\n",
       "    </tr>\n",
       "    <tr>\n",
       "      <th>4</th>\n",
       "      <td>Father of the Bride Part II</td>\n",
       "      <td>Just when George Banks has recovered from his ...</td>\n",
       "      <td>george bank recover daughter wedding receive n...</td>\n",
       "    </tr>\n",
       "    <tr>\n",
       "      <th>5</th>\n",
       "      <td>Heat</td>\n",
       "      <td>Obsessive master thief, Neil McCauley leads a ...</td>\n",
       "      <td>obsessive master thief neil mccauley lead crew...</td>\n",
       "    </tr>\n",
       "    <tr>\n",
       "      <th>6</th>\n",
       "      <td>Sabrina</td>\n",
       "      <td>An ugly duckling having undergone a remarkable...</td>\n",
       "      <td>ugly duckling undergone remarkable change stil...</td>\n",
       "    </tr>\n",
       "    <tr>\n",
       "      <th>7</th>\n",
       "      <td>Tom and Huck</td>\n",
       "      <td>A mischievous young boy, Tom Sawyer, witnesses...</td>\n",
       "      <td>mischievous young boy tom sawyer witness murde...</td>\n",
       "    </tr>\n",
       "    <tr>\n",
       "      <th>8</th>\n",
       "      <td>Sudden Death</td>\n",
       "      <td>International action superstar Jean Claude Van...</td>\n",
       "      <td>international action superstar jean claude van...</td>\n",
       "    </tr>\n",
       "    <tr>\n",
       "      <th>9</th>\n",
       "      <td>GoldenEye</td>\n",
       "      <td>James Bond must unmask the mysterious head of ...</td>\n",
       "      <td>james bond must unmask mysterious head janus s...</td>\n",
       "    </tr>\n",
       "    <tr>\n",
       "      <th>10</th>\n",
       "      <td>The American President</td>\n",
       "      <td>Widowed U.S. president Andrew Shepherd, one of...</td>\n",
       "      <td>widow president andrew shepherd one world powe...</td>\n",
       "    </tr>\n",
       "    <tr>\n",
       "      <th>11</th>\n",
       "      <td>Dracula: Dead and Loving It</td>\n",
       "      <td>When a lawyer shows up at the vampire's doorst...</td>\n",
       "      <td>lawyer show vampire doorstep fall prey charm j...</td>\n",
       "    </tr>\n",
       "    <tr>\n",
       "      <th>12</th>\n",
       "      <td>Balto</td>\n",
       "      <td>An outcast half-wolf risks his life to prevent...</td>\n",
       "      <td>outcast risk life prevent deadly epidemic rava...</td>\n",
       "    </tr>\n",
       "    <tr>\n",
       "      <th>13</th>\n",
       "      <td>Nixon</td>\n",
       "      <td>An all-star cast powers this epic look at Amer...</td>\n",
       "      <td>cast power epic look american president richar...</td>\n",
       "    </tr>\n",
       "    <tr>\n",
       "      <th>14</th>\n",
       "      <td>Cutthroat Island</td>\n",
       "      <td>Morgan Adams and her slave, William Shaw, are ...</td>\n",
       "      <td>morgan adam slave william shaw quest recover t...</td>\n",
       "    </tr>\n",
       "    <tr>\n",
       "      <th>15</th>\n",
       "      <td>Casino</td>\n",
       "      <td>The life of the gambling paradise – Las Vegas ...</td>\n",
       "      <td>life gamble paradise las vega dark mafia under...</td>\n",
       "    </tr>\n",
       "    <tr>\n",
       "      <th>16</th>\n",
       "      <td>Sense and Sensibility</td>\n",
       "      <td>Rich Mr. Dashwood dies, leaving his second wif...</td>\n",
       "      <td>rich dashwood die leave second wife daughter p...</td>\n",
       "    </tr>\n",
       "    <tr>\n",
       "      <th>17</th>\n",
       "      <td>Four Rooms</td>\n",
       "      <td>It's Ted the Bellhop's first night on the job....</td>\n",
       "      <td>ted bellhop first night job hotel unusual gues...</td>\n",
       "    </tr>\n",
       "    <tr>\n",
       "      <th>18</th>\n",
       "      <td>Ace Ventura: When Nature Calls</td>\n",
       "      <td>Summoned from an ashram in Tibet, Ace finds hi...</td>\n",
       "      <td>summon ashram tibet ace find perilous journey ...</td>\n",
       "    </tr>\n",
       "    <tr>\n",
       "      <th>19</th>\n",
       "      <td>Money Train</td>\n",
       "      <td>A vengeful New York transit cop decides to ste...</td>\n",
       "      <td>vengeful new york transit cop decide steal tra...</td>\n",
       "    </tr>\n",
       "    <tr>\n",
       "      <th>20</th>\n",
       "      <td>Get Shorty</td>\n",
       "      <td>Chili Palmer is a Miami mobster who gets sent ...</td>\n",
       "      <td>chili palmer miami mobster get send bos psycho...</td>\n",
       "    </tr>\n",
       "    <tr>\n",
       "      <th>21</th>\n",
       "      <td>Copycat</td>\n",
       "      <td>An agoraphobic psychologist and a female detec...</td>\n",
       "      <td>agoraphobic psychologist female detective must...</td>\n",
       "    </tr>\n",
       "    <tr>\n",
       "      <th>22</th>\n",
       "      <td>Assassins</td>\n",
       "      <td>Assassin Robert Rath arrives at a funeral to k...</td>\n",
       "      <td>assassin robert rath arrive funeral kill promi...</td>\n",
       "    </tr>\n",
       "    <tr>\n",
       "      <th>23</th>\n",
       "      <td>Powder</td>\n",
       "      <td>Harassed by classmates who won't accept his sh...</td>\n",
       "      <td>harass classmate wo accept shock appearance sh...</td>\n",
       "    </tr>\n",
       "    <tr>\n",
       "      <th>24</th>\n",
       "      <td>Leaving Las Vegas</td>\n",
       "      <td>Ben Sanderson, an alcoholic Hollywood screenwr...</td>\n",
       "      <td>ben sanderson alcoholic hollywood screenwriter...</td>\n",
       "    </tr>\n",
       "    <tr>\n",
       "      <th>25</th>\n",
       "      <td>Othello</td>\n",
       "      <td>The evil Iago pretends to be friend of Othello...</td>\n",
       "      <td>evil iago pretend friend othello order manipul...</td>\n",
       "    </tr>\n",
       "    <tr>\n",
       "      <th>26</th>\n",
       "      <td>Now and Then</td>\n",
       "      <td>Waxing nostalgic about the bittersweet passage...</td>\n",
       "      <td>wax nostalgic bittersweet passage childhood pu...</td>\n",
       "    </tr>\n",
       "    <tr>\n",
       "      <th>27</th>\n",
       "      <td>Persuasion</td>\n",
       "      <td>This film adaptation of Jane Austen's last nov...</td>\n",
       "      <td>film adaptation jane austen last novel follow ...</td>\n",
       "    </tr>\n",
       "    <tr>\n",
       "      <th>28</th>\n",
       "      <td>The City of Lost Children</td>\n",
       "      <td>A scientist in a surrealist society kidnaps ch...</td>\n",
       "      <td>scientist surrealist society kidnaps child ste...</td>\n",
       "    </tr>\n",
       "    <tr>\n",
       "      <th>29</th>\n",
       "      <td>Shanghai Triad</td>\n",
       "      <td>A provincial boy related to a Shanghai crime f...</td>\n",
       "      <td>provincial boy relate shanghai crime family re...</td>\n",
       "    </tr>\n",
       "  </tbody>\n",
       "</table>\n",
       "</div>"
      ],
      "text/plain": [
       "                             title  \\\n",
       "0                        Toy Story   \n",
       "1                          Jumanji   \n",
       "2                 Grumpier Old Men   \n",
       "3                Waiting to Exhale   \n",
       "4      Father of the Bride Part II   \n",
       "5                             Heat   \n",
       "6                          Sabrina   \n",
       "7                     Tom and Huck   \n",
       "8                     Sudden Death   \n",
       "9                        GoldenEye   \n",
       "10          The American President   \n",
       "11     Dracula: Dead and Loving It   \n",
       "12                           Balto   \n",
       "13                           Nixon   \n",
       "14                Cutthroat Island   \n",
       "15                          Casino   \n",
       "16           Sense and Sensibility   \n",
       "17                      Four Rooms   \n",
       "18  Ace Ventura: When Nature Calls   \n",
       "19                     Money Train   \n",
       "20                      Get Shorty   \n",
       "21                         Copycat   \n",
       "22                       Assassins   \n",
       "23                          Powder   \n",
       "24               Leaving Las Vegas   \n",
       "25                         Othello   \n",
       "26                    Now and Then   \n",
       "27                      Persuasion   \n",
       "28       The City of Lost Children   \n",
       "29                  Shanghai Triad   \n",
       "\n",
       "                                          description  \\\n",
       "0   Led by Woody, Andy's toys live happily in his ...   \n",
       "1   When siblings Judy and Peter discover an encha...   \n",
       "2   A family wedding reignites the ancient feud be...   \n",
       "3   Cheated on, mistreated and stepped on, the wom...   \n",
       "4   Just when George Banks has recovered from his ...   \n",
       "5   Obsessive master thief, Neil McCauley leads a ...   \n",
       "6   An ugly duckling having undergone a remarkable...   \n",
       "7   A mischievous young boy, Tom Sawyer, witnesses...   \n",
       "8   International action superstar Jean Claude Van...   \n",
       "9   James Bond must unmask the mysterious head of ...   \n",
       "10  Widowed U.S. president Andrew Shepherd, one of...   \n",
       "11  When a lawyer shows up at the vampire's doorst...   \n",
       "12  An outcast half-wolf risks his life to prevent...   \n",
       "13  An all-star cast powers this epic look at Amer...   \n",
       "14  Morgan Adams and her slave, William Shaw, are ...   \n",
       "15  The life of the gambling paradise – Las Vegas ...   \n",
       "16  Rich Mr. Dashwood dies, leaving his second wif...   \n",
       "17  It's Ted the Bellhop's first night on the job....   \n",
       "18  Summoned from an ashram in Tibet, Ace finds hi...   \n",
       "19  A vengeful New York transit cop decides to ste...   \n",
       "20  Chili Palmer is a Miami mobster who gets sent ...   \n",
       "21  An agoraphobic psychologist and a female detec...   \n",
       "22  Assassin Robert Rath arrives at a funeral to k...   \n",
       "23  Harassed by classmates who won't accept his sh...   \n",
       "24  Ben Sanderson, an alcoholic Hollywood screenwr...   \n",
       "25  The evil Iago pretends to be friend of Othello...   \n",
       "26  Waxing nostalgic about the bittersweet passage...   \n",
       "27  This film adaptation of Jane Austen's last nov...   \n",
       "28  A scientist in a surrealist society kidnaps ch...   \n",
       "29  A provincial boy related to a Shanghai crime f...   \n",
       "\n",
       "                                       desc_processed  \n",
       "0   lead woody andy toy live happily room andy bir...  \n",
       "1   sibling judy peter discover enchant board game...  \n",
       "2   family wedding reignite ancient feud neighbor ...  \n",
       "3   cheat mistreat step woman hold breath wait elu...  \n",
       "4   george bank recover daughter wedding receive n...  \n",
       "5   obsessive master thief neil mccauley lead crew...  \n",
       "6   ugly duckling undergone remarkable change stil...  \n",
       "7   mischievous young boy tom sawyer witness murde...  \n",
       "8   international action superstar jean claude van...  \n",
       "9   james bond must unmask mysterious head janus s...  \n",
       "10  widow president andrew shepherd one world powe...  \n",
       "11  lawyer show vampire doorstep fall prey charm j...  \n",
       "12  outcast risk life prevent deadly epidemic rava...  \n",
       "13  cast power epic look american president richar...  \n",
       "14  morgan adam slave william shaw quest recover t...  \n",
       "15  life gamble paradise las vega dark mafia under...  \n",
       "16  rich dashwood die leave second wife daughter p...  \n",
       "17  ted bellhop first night job hotel unusual gues...  \n",
       "18  summon ashram tibet ace find perilous journey ...  \n",
       "19  vengeful new york transit cop decide steal tra...  \n",
       "20  chili palmer miami mobster get send bos psycho...  \n",
       "21  agoraphobic psychologist female detective must...  \n",
       "22  assassin robert rath arrive funeral kill promi...  \n",
       "23  harass classmate wo accept shock appearance sh...  \n",
       "24  ben sanderson alcoholic hollywood screenwriter...  \n",
       "25  evil iago pretend friend othello order manipul...  \n",
       "26  wax nostalgic bittersweet passage childhood pu...  \n",
       "27  film adaptation jane austen last novel follow ...  \n",
       "28  scientist surrealist society kidnaps child ste...  \n",
       "29  provincial boy relate shanghai crime family re...  "
      ]
     },
     "execution_count": 12,
     "metadata": {},
     "output_type": "execute_result"
    }
   ],
   "source": [
    "df_copy.head(30)"
   ]
  },
  {
   "cell_type": "markdown",
   "metadata": {},
   "source": [
    "Calcualting based on genre"
   ]
  },
  {
   "cell_type": "code",
   "execution_count": 13,
   "metadata": {},
   "outputs": [
    {
     "name": "stdout",
     "output_type": "stream",
     "text": [
      "<class 'pandas.core.frame.DataFrame'>\n",
      "RangeIndex: 46733 entries, 0 to 46732\n",
      "Data columns (total 30 columns):\n",
      " #   Column                Non-Null Count  Dtype \n",
      "---  ------                --------------  ----- \n",
      " 0   id                    46733 non-null  object\n",
      " 1   title                 46717 non-null  object\n",
      " 2   tagline               20857 non-null  object\n",
      " 3   description           45687 non-null  object\n",
      " 4   genres                42310 non-null  object\n",
      " 5   keywords              30515 non-null  object\n",
      " 6   date                  44619 non-null  object\n",
      " 7   collection            4466 non-null   object\n",
      " 8   runtime               44450 non-null  object\n",
      " 9   revenue               44712 non-null  object\n",
      " 10  budget                44709 non-null  object\n",
      " 11  director              43851 non-null  object\n",
      " 12  cast                  42363 non-null  object\n",
      " 13  production_companies  33038 non-null  object\n",
      " 14  production_countries  38547 non-null  object\n",
      " 15  popularity            44712 non-null  object\n",
      " 16  average_vote          44712 non-null  object\n",
      " 17  num_votes             44715 non-null  object\n",
      " 18  language              44690 non-null  object\n",
      " 19  imdb_id               44670 non-null  object\n",
      " 20  poster_url            44289 non-null  object\n",
      " 21  Unnamed: 21           13 non-null     object\n",
      " 22  Unnamed: 22           8 non-null      object\n",
      " 23  Unnamed: 23           7 non-null      object\n",
      " 24  Unnamed: 24           6 non-null      object\n",
      " 25  Unnamed: 25           6 non-null      object\n",
      " 26  Unnamed: 26           5 non-null      object\n",
      " 27  Unnamed: 27           4 non-null      object\n",
      " 28  Unnamed: 28           4 non-null      object\n",
      " 29  Unnamed: 29           2 non-null      object\n",
      "dtypes: object(30)\n",
      "memory usage: 10.7+ MB\n"
     ]
    }
   ],
   "source": [
    "df_movie.info()"
   ]
  },
  {
   "cell_type": "markdown",
   "metadata": {},
   "source": [
    "# Based on movie genres"
   ]
  },
  {
   "cell_type": "code",
   "execution_count": 14,
   "metadata": {},
   "outputs": [],
   "source": [
    "df_genre =df_movie[['title','genres']]"
   ]
  },
  {
   "cell_type": "code",
   "execution_count": 15,
   "metadata": {},
   "outputs": [
    {
     "data": {
      "text/html": [
       "<div>\n",
       "<style scoped>\n",
       "    .dataframe tbody tr th:only-of-type {\n",
       "        vertical-align: middle;\n",
       "    }\n",
       "\n",
       "    .dataframe tbody tr th {\n",
       "        vertical-align: top;\n",
       "    }\n",
       "\n",
       "    .dataframe thead th {\n",
       "        text-align: right;\n",
       "    }\n",
       "</style>\n",
       "<table border=\"1\" class=\"dataframe\">\n",
       "  <thead>\n",
       "    <tr style=\"text-align: right;\">\n",
       "      <th></th>\n",
       "      <th>title</th>\n",
       "      <th>genres</th>\n",
       "    </tr>\n",
       "  </thead>\n",
       "  <tbody>\n",
       "    <tr>\n",
       "      <th>0</th>\n",
       "      <td>Toy Story</td>\n",
       "      <td>animation, comedy, family</td>\n",
       "    </tr>\n",
       "    <tr>\n",
       "      <th>1</th>\n",
       "      <td>Jumanji</td>\n",
       "      <td>adventure, fantasy, family</td>\n",
       "    </tr>\n",
       "    <tr>\n",
       "      <th>2</th>\n",
       "      <td>Grumpier Old Men</td>\n",
       "      <td>romance, comedy</td>\n",
       "    </tr>\n",
       "    <tr>\n",
       "      <th>3</th>\n",
       "      <td>Waiting to Exhale</td>\n",
       "      <td>comedy, drama, romance</td>\n",
       "    </tr>\n",
       "    <tr>\n",
       "      <th>4</th>\n",
       "      <td>Father of the Bride Part II</td>\n",
       "      <td>comedy</td>\n",
       "    </tr>\n",
       "  </tbody>\n",
       "</table>\n",
       "</div>"
      ],
      "text/plain": [
       "                         title                      genres\n",
       "0                    Toy Story   animation, comedy, family\n",
       "1                      Jumanji  adventure, fantasy, family\n",
       "2             Grumpier Old Men             romance, comedy\n",
       "3            Waiting to Exhale      comedy, drama, romance\n",
       "4  Father of the Bride Part II                      comedy"
      ]
     },
     "execution_count": 15,
     "metadata": {},
     "output_type": "execute_result"
    }
   ],
   "source": [
    "df_genre.head()"
   ]
  },
  {
   "cell_type": "code",
   "execution_count": 16,
   "metadata": {},
   "outputs": [],
   "source": [
    "df_genre = df_genre.astype(str)\n",
    "df_genre['processed_genres'] = df_genre[\"genres\"].apply(preprocess_sentences) "
   ]
  },
  {
   "cell_type": "code",
   "execution_count": 17,
   "metadata": {},
   "outputs": [
    {
     "data": {
      "text/html": [
       "<div>\n",
       "<style scoped>\n",
       "    .dataframe tbody tr th:only-of-type {\n",
       "        vertical-align: middle;\n",
       "    }\n",
       "\n",
       "    .dataframe tbody tr th {\n",
       "        vertical-align: top;\n",
       "    }\n",
       "\n",
       "    .dataframe thead th {\n",
       "        text-align: right;\n",
       "    }\n",
       "</style>\n",
       "<table border=\"1\" class=\"dataframe\">\n",
       "  <thead>\n",
       "    <tr style=\"text-align: right;\">\n",
       "      <th></th>\n",
       "      <th>title</th>\n",
       "      <th>genres</th>\n",
       "      <th>processed_genres</th>\n",
       "    </tr>\n",
       "  </thead>\n",
       "  <tbody>\n",
       "    <tr>\n",
       "      <th>0</th>\n",
       "      <td>Toy Story</td>\n",
       "      <td>animation, comedy, family</td>\n",
       "      <td>animation comedy family</td>\n",
       "    </tr>\n",
       "    <tr>\n",
       "      <th>1</th>\n",
       "      <td>Jumanji</td>\n",
       "      <td>adventure, fantasy, family</td>\n",
       "      <td>adventure fantasy family</td>\n",
       "    </tr>\n",
       "    <tr>\n",
       "      <th>2</th>\n",
       "      <td>Grumpier Old Men</td>\n",
       "      <td>romance, comedy</td>\n",
       "      <td>romance comedy</td>\n",
       "    </tr>\n",
       "    <tr>\n",
       "      <th>3</th>\n",
       "      <td>Waiting to Exhale</td>\n",
       "      <td>comedy, drama, romance</td>\n",
       "      <td>comedy drama romance</td>\n",
       "    </tr>\n",
       "    <tr>\n",
       "      <th>4</th>\n",
       "      <td>Father of the Bride Part II</td>\n",
       "      <td>comedy</td>\n",
       "      <td>comedy</td>\n",
       "    </tr>\n",
       "  </tbody>\n",
       "</table>\n",
       "</div>"
      ],
      "text/plain": [
       "                         title                      genres  \\\n",
       "0                    Toy Story   animation, comedy, family   \n",
       "1                      Jumanji  adventure, fantasy, family   \n",
       "2             Grumpier Old Men             romance, comedy   \n",
       "3            Waiting to Exhale      comedy, drama, romance   \n",
       "4  Father of the Bride Part II                      comedy   \n",
       "\n",
       "           processed_genres  \n",
       "0   animation comedy family  \n",
       "1  adventure fantasy family  \n",
       "2            romance comedy  \n",
       "3      comedy drama romance  \n",
       "4                    comedy  "
      ]
     },
     "execution_count": 17,
     "metadata": {},
     "output_type": "execute_result"
    }
   ],
   "source": [
    "df_genre.head()"
   ]
  },
  {
   "cell_type": "code",
   "execution_count": 18,
   "metadata": {},
   "outputs": [],
   "source": [
    "tfidf_genreid = tfidfvec.fit_transform((df_genre['processed_genres']))"
   ]
  },
  {
   "cell_type": "code",
   "execution_count": 19,
   "metadata": {},
   "outputs": [
    {
     "data": {
      "text/plain": [
       "(46733, 182)"
      ]
     },
     "execution_count": 19,
     "metadata": {},
     "output_type": "execute_result"
    }
   ],
   "source": [
    "tfidf_genreid.shape"
   ]
  },
  {
   "cell_type": "code",
   "execution_count": 20,
   "metadata": {},
   "outputs": [],
   "source": [
    "tfidf_genreid_copy = tfidf_genreid[0:5000]\n",
    "df_genre_copy =df_genre[0:5000]\n",
    "cos_sim_genre = cosine_similarity(tfidf_genreid_copy ,tfidf_genreid_copy) \n",
    "def recommendations_genre(title, cosine_sim = cos_sim_genre ): \n",
    "    recommended_movies = [] \n",
    "    index = indices[indices == title].index[0] \n",
    "    similarity_scores = pd.Series(cos_sim_genre[index]).sort_values(ascending = False) \n",
    "    top_10_movies = list(similarity_scores.iloc[1:11].index) \n",
    "    for i in top_10_movies: \n",
    "        recommended_movies.append(list(df_genre_copy.title)[i]) \n",
    "    return recommended_movies "
   ]
  },
  {
   "cell_type": "code",
   "execution_count": 21,
   "metadata": {},
   "outputs": [
    {
     "data": {
      "text/plain": [
       "['Chicken Run',\n",
       " 'Meet the Deedles',\n",
       " 'Oliver & Company',\n",
       " 'A Close Shave',\n",
       " 'The Wrong Trousers',\n",
       " 'The Great Mouse Detective',\n",
       " 'Toy Story 2',\n",
       " 'Monsters, Inc.',\n",
       " 'Creature Comforts',\n",
       " \"Doug's 1st Movie\"]"
      ]
     },
     "execution_count": 21,
     "metadata": {},
     "output_type": "execute_result"
    }
   ],
   "source": [
    "recommendations_genre(\"Toy Story\")"
   ]
  },
  {
   "cell_type": "code",
   "execution_count": 22,
   "metadata": {},
   "outputs": [
    {
     "data": {
      "text/plain": [
       "['The Wizard of Oz',\n",
       " 'The Indian in the Cupboard',\n",
       " 'Labyrinth',\n",
       " \"Harry Potter and the Philosopher's Stone\",\n",
       " 'Return to Oz',\n",
       " 'The NeverEnding Story',\n",
       " 'The Neverending Story II: The Next Chapter',\n",
       " 'Hook',\n",
       " 'Herbie Goes Bananas',\n",
       " 'Little Monsters']"
      ]
     },
     "execution_count": 22,
     "metadata": {},
     "output_type": "execute_result"
    }
   ],
   "source": [
    "recommendations_genre(\"Jumanji\")"
   ]
  },
  {
   "cell_type": "code",
   "execution_count": 23,
   "metadata": {},
   "outputs": [
    {
     "data": {
      "text/plain": [
       "['The Spy Who Loved Me',\n",
       " 'Speed 2: Cruise Control',\n",
       " 'Thunderball',\n",
       " 'Street Fighter',\n",
       " 'Live and Let Die',\n",
       " 'Knock Off',\n",
       " 'Licence to Kill',\n",
       " 'For Your Eyes Only',\n",
       " 'Space Cowboys',\n",
       " 'Firestorm']"
      ]
     },
     "execution_count": 23,
     "metadata": {},
     "output_type": "execute_result"
    }
   ],
   "source": [
    "recommendations_genre(\"GoldenEye\")"
   ]
  },
  {
   "cell_type": "code",
   "execution_count": 24,
   "metadata": {},
   "outputs": [
    {
     "data": {
      "text/plain": [
       "[\"Heaven's Burning\",\n",
       " 'Gloria',\n",
       " 'Payback',\n",
       " 'Original Gangstas',\n",
       " 'Training Day',\n",
       " 'Kill Me Again',\n",
       " 'Mercury Rising',\n",
       " 'Romeo Is Bleeding',\n",
       " 'Code of Silence',\n",
       " 'Get Carter']"
      ]
     },
     "execution_count": 24,
     "metadata": {},
     "output_type": "execute_result"
    }
   ],
   "source": [
    "recommendations_genre(\"Heat\")"
   ]
  },
  {
   "cell_type": "code",
   "execution_count": 27,
   "metadata": {},
   "outputs": [
    {
     "data": {
      "text/html": [
       "<div>\n",
       "<style scoped>\n",
       "    .dataframe tbody tr th:only-of-type {\n",
       "        vertical-align: middle;\n",
       "    }\n",
       "\n",
       "    .dataframe tbody tr th {\n",
       "        vertical-align: top;\n",
       "    }\n",
       "\n",
       "    .dataframe thead th {\n",
       "        text-align: right;\n",
       "    }\n",
       "</style>\n",
       "<table border=\"1\" class=\"dataframe\">\n",
       "  <thead>\n",
       "    <tr style=\"text-align: right;\">\n",
       "      <th></th>\n",
       "      <th>title</th>\n",
       "      <th>genres</th>\n",
       "    </tr>\n",
       "  </thead>\n",
       "  <tbody>\n",
       "    <tr>\n",
       "      <th>0</th>\n",
       "      <td>Toy Story</td>\n",
       "      <td>animation, comedy, family</td>\n",
       "    </tr>\n",
       "    <tr>\n",
       "      <th>1</th>\n",
       "      <td>Jumanji</td>\n",
       "      <td>adventure, fantasy, family</td>\n",
       "    </tr>\n",
       "    <tr>\n",
       "      <th>2</th>\n",
       "      <td>Grumpier Old Men</td>\n",
       "      <td>romance, comedy</td>\n",
       "    </tr>\n",
       "    <tr>\n",
       "      <th>3</th>\n",
       "      <td>Waiting to Exhale</td>\n",
       "      <td>comedy, drama, romance</td>\n",
       "    </tr>\n",
       "    <tr>\n",
       "      <th>4</th>\n",
       "      <td>Father of the Bride Part II</td>\n",
       "      <td>comedy</td>\n",
       "    </tr>\n",
       "    <tr>\n",
       "      <th>5</th>\n",
       "      <td>Heat</td>\n",
       "      <td>action, crime, drama, thriller</td>\n",
       "    </tr>\n",
       "  </tbody>\n",
       "</table>\n",
       "</div>"
      ],
      "text/plain": [
       "                         title                          genres\n",
       "0                    Toy Story       animation, comedy, family\n",
       "1                      Jumanji      adventure, fantasy, family\n",
       "2             Grumpier Old Men                 romance, comedy\n",
       "3            Waiting to Exhale          comedy, drama, romance\n",
       "4  Father of the Bride Part II                          comedy\n",
       "5                         Heat  action, crime, drama, thriller"
      ]
     },
     "execution_count": 27,
     "metadata": {},
     "output_type": "execute_result"
    }
   ],
   "source": [
    "df_movie[[\"title\",\"genres\"]].head(6)"
   ]
  },
  {
   "cell_type": "code",
   "execution_count": null,
   "metadata": {},
   "outputs": [],
   "source": []
  }
 ],
 "metadata": {
  "kernelspec": {
   "display_name": "Python 3",
   "language": "python",
   "name": "python3"
  },
  "language_info": {
   "codemirror_mode": {
    "name": "ipython",
    "version": 3
   },
   "file_extension": ".py",
   "mimetype": "text/x-python",
   "name": "python",
   "nbconvert_exporter": "python",
   "pygments_lexer": "ipython3",
   "version": "3.8.3"
  }
 },
 "nbformat": 4,
 "nbformat_minor": 4
}
